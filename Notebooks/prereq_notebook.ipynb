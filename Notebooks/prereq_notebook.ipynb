{
 "cells": [
  {
   "cell_type": "code",
   "execution_count": null,
   "id": "78d53443",
   "metadata": {},
   "outputs": [],
   "source": [
    "print (\"Hello, World!\")\n"
   ]
  },
  {
   "cell_type": "markdown",
   "id": "852a4728",
   "metadata": {},
   "source": [
    "My name is Benjamin Trieu and I'm a first time student of Code:You. I am excited to be taking the Data Analyticcs pathway. This is not my first time do coding, but this is my first time coding with worrying about university classes. Right Now I'm just try to find a project to work on while doing this pathway"
   ]
  }
 ],
 "metadata": {
  "language_info": {
   "name": "python"
  }
 },
 "nbformat": 4,
 "nbformat_minor": 5
}
