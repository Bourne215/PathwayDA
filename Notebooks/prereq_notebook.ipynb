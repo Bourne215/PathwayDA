{
 "cells": [
  {
   "cell_type": "code",
   "execution_count": 1,
   "id": "78d53443",
   "metadata": {},
   "outputs": [],
   "source": [
    "import pandas\n"
   ]
  },
  {
   "cell_type": "markdown",
   "id": "852a4728",
   "metadata": {},
   "source": [
    "My name is Benjamin Trieu and I'm a first time student of Code:You. I am excited to be taking the Data Analyticcs pathway. This is not my first time do coding, but this is my first time coding with worrying about university classes. Right Now I'm just try to find a project to work on while doing this pathway"
   ]
  }
 ],
 "metadata": {
  "kernelspec": {
   "display_name": "Python 3",
   "language": "python",
   "name": "python3"
  },
  "language_info": {
   "codemirror_mode": {
    "name": "ipython",
    "version": 3
   },
   "file_extension": ".py",
   "mimetype": "text/x-python",
   "name": "python",
   "nbconvert_exporter": "python",
   "pygments_lexer": "ipython3",
   "version": "3.13.5"
  }
 },
 "nbformat": 4,
 "nbformat_minor": 5
}
