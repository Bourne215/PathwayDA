{
 "cells": [
  {
   "cell_type": "code",
   "execution_count": 4,
   "id": "bea4673a",
   "metadata": {},
   "outputs": [
    {
     "name": "stdout",
     "output_type": "stream",
     "text": [
      "True\n",
      "False\n",
      "True\n"
     ]
    }
   ],
   "source": [
    "import re\n",
    "\n",
    "def is_palindrome(s):\n",
    "    s = ''.join(s.split()).lower()\n",
    "    return s == s[::-1]\n",
    "\n",
    "mytxt = is_palindrome(\"racecar\")\n",
    "myttx = is_palindrome(\"hello\")\n",
    "mytht = is_palindrome(\"A man a plan a canal Panama\")\n",
    "\n",
    "print(mytxt)\n",
    "print(myttx)\n",
    "print(mytht)\n",
    "\n"
   ]
  }
 ],
 "metadata": {
  "kernelspec": {
   "display_name": "Python 3",
   "language": "python",
   "name": "python3"
  },
  "language_info": {
   "codemirror_mode": {
    "name": "ipython",
    "version": 3
   },
   "file_extension": ".py",
   "mimetype": "text/x-python",
   "name": "python",
   "nbconvert_exporter": "python",
   "pygments_lexer": "ipython3",
   "version": "3.13.5"
  }
 },
 "nbformat": 4,
 "nbformat_minor": 5
}
