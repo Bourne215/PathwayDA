{
 "cells": [
  {
   "cell_type": "code",
   "execution_count": 2,
   "id": "f39a6795",
   "metadata": {},
   "outputs": [
    {
     "name": "stdout",
     "output_type": "stream",
     "text": [
      "17\n"
     ]
    }
   ],
   "source": [
    "def find_max(numbers):\n",
    "     if not numbers:\n",
    "          return None\n",
    "     current_max = numbers[0]\n",
    "\n",
    "     for number in numbers:\n",
    "          if number > current_max:\n",
    "               current_max = number\n",
    "     return current_max\n",
    "\n",
    "current_max = find_max([4,9,1,17,2])\n",
    "\n",
    "print(current_max)"
   ]
  }
 ],
 "metadata": {
  "kernelspec": {
   "display_name": "Python 3",
   "language": "python",
   "name": "python3"
  },
  "language_info": {
   "codemirror_mode": {
    "name": "ipython",
    "version": 3
   },
   "file_extension": ".py",
   "mimetype": "text/x-python",
   "name": "python",
   "nbconvert_exporter": "python",
   "pygments_lexer": "ipython3",
   "version": "3.13.5"
  }
 },
 "nbformat": 4,
 "nbformat_minor": 5
}
