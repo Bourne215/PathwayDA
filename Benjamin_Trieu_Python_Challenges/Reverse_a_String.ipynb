{
 "cells": [
  {
   "cell_type": "code",
   "execution_count": 6,
   "id": "dadeee64",
   "metadata": {},
   "outputs": [
    {
     "name": "stdout",
     "output_type": "stream",
     "text": [
      "olleH\n"
     ]
    }
   ],
   "source": [
    "def reverse_string(x):\n",
    "    return x[::-1]\n",
    "\n",
    "mytxt = reverse_string(\"Hello\")\n",
    "\n",
    "print(mytxt)"
   ]
  },
  {
   "cell_type": "code",
   "execution_count": 7,
   "id": "90d99367",
   "metadata": {},
   "outputs": [
    {
     "name": "stdout",
     "output_type": "stream",
     "text": [
      "scitylanA ataD\n"
     ]
    }
   ],
   "source": [
    "s = \"Data Analytics\"\n",
    "rev = \"\"\n",
    "\n",
    "for chr in s:\n",
    "    rev = chr + rev\n",
    "\n",
    "print(rev)"
   ]
  }
 ],
 "metadata": {
  "kernelspec": {
   "display_name": "Python 3",
   "language": "python",
   "name": "python3"
  },
  "language_info": {
   "codemirror_mode": {
    "name": "ipython",
    "version": 3
   },
   "file_extension": ".py",
   "mimetype": "text/x-python",
   "name": "python",
   "nbconvert_exporter": "python",
   "pygments_lexer": "ipython3",
   "version": "3.13.5"
  }
 },
 "nbformat": 4,
 "nbformat_minor": 5
}
