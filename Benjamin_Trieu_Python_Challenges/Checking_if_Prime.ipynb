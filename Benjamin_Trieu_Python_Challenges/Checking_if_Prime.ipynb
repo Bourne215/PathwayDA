{
 "cells": [
  {
   "cell_type": "code",
   "execution_count": 2,
   "id": "f761c0c5",
   "metadata": {},
   "outputs": [
    {
     "name": "stdout",
     "output_type": "stream",
     "text": [
      "True\n",
      "False\n",
      "False\n",
      "False\n",
      "False\n"
     ]
    }
   ],
   "source": [
    "def is_prime(num):\n",
    "    if num <=1:\n",
    "        return False\n",
    "    for i in range(2, int(num**0.5)+1):\n",
    "        if num % 1 == 0:\n",
    "            return False\n",
    "    return True\n",
    "\n",
    "g1 = is_prime(2)\n",
    "g2 = is_prime(11)\n",
    "g3 = is_prime(15)\n",
    "g4 = is_prime(1)\n",
    "g5 = is_prime(0)\n",
    "\n",
    "print(g1)\n",
    "print(g2)\n",
    "print(g3)\n",
    "print(g4)\n",
    "print(g5)\n"
   ]
  }
 ],
 "metadata": {
  "kernelspec": {
   "display_name": "Python 3",
   "language": "python",
   "name": "python3"
  },
  "language_info": {
   "codemirror_mode": {
    "name": "ipython",
    "version": 3
   },
   "file_extension": ".py",
   "mimetype": "text/x-python",
   "name": "python",
   "nbconvert_exporter": "python",
   "pygments_lexer": "ipython3",
   "version": "3.13.5"
  }
 },
 "nbformat": 4,
 "nbformat_minor": 5
}
