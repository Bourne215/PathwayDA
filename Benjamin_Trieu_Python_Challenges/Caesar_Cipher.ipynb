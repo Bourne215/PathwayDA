{
 "cells": [
  {
   "cell_type": "markdown",
   "id": "fddd9c51",
   "metadata": {},
   "source": [
    "Challenge: Caesar Cipher Encoder\n",
    "Problem\n",
    "A Caesar cipher is a simple encryption technique where each letter in a message is shifted a fixed number of places down the alphabet. For example, shifting \"a\" by 3 gives you \"d\".\n",
    "\n",
    "Write a function that takes a string and a shift value and returns the encoded message using the Caesar cipher.\n",
    "\n",
    "Examples\n",
    "caesar_cipher(\"abc\", 3) #Output:  \"def\"  \n",
    "caesar_cipher(\"xyz\", 2) #Output:  \"zab\"  \n",
    "caesar_cipher(\"Hello, World!\", 5) #Output:  \"Mjqqt, Btwqi!\""
   ]
  },
  {
   "cell_type": "code",
   "execution_count": 18,
   "id": "8f210148",
   "metadata": {},
   "outputs": [],
   "source": [
    "def caesar_cipher(text, shift):\n",
    "    \"\"\"\n",
    "    It takes a text a change every litter the amount of times \"shifts\"\n",
    "\n",
    "    Arg:\n",
    "       text: is the text to change\n",
    "       shfit: amount of spaces each letter will change\n",
    "\n",
    "    Return:\n",
    "        str\n",
    "    \"\"\"\n",
    "        \n",
    "    result_str = \"\"\n",
    "\n",
    "    #iterate through every character in the text\n",
    "    for letter in text:\n",
    "        if str.isalpha(letter):\n",
    "            # shift the positions\n",
    "            letter_position = ord(letter)\n",
    "            print(f\"Letter Postion is {letter_position}\")\n",
    "            # 65 - 90 upper\n",
    "            # 98 - 122 lower\n",
    "            is_upper = Is_upper(letter)\n",
    "            if is_upper:\n",
    "                alpha_position = letter_position - 65\n",
    "            else:\n",
    "                alpha_position = letter_position - 98\n",
    "            \n",
    "            print(f\"Alpha position is {alpha_position}\")\n",
    "            alpha_position += shift\n",
    "            \n",
    "            while(alpha_position > 25):\n",
    "                alpha_position -= 25\n",
    "            \n",
    "            print(f\"Alpha position at the end is {alpha_position}\")\n",
    "            if is_upper:\n",
    "                alpha_position += 65\n",
    "            else:\n",
    "                alpha_position += 98\n",
    "\n",
    "            result_str += chr(alpha_position)\n",
    "\n",
    "            \n",
    "        else:\n",
    "            result_str += letter\n",
    "    return result_str\n",
    "\n",
    "def Is_upper(letter):\n",
    "    \"\"\"\n",
    "    This function checks if a letter is upperCase\n",
    "\n",
    "    Args:\n",
    "        letter\n",
    "\n",
    "    returns:\n",
    "        bool\n",
    "    \"\"\"\n",
    "    if ord(letter) >= 65 and ord(letter) <= 90:\n",
    "        return True\n",
    "    else:\n",
    "        return False"
   ]
  },
  {
   "cell_type": "code",
   "execution_count": 25,
   "id": "684e0be7",
   "metadata": {},
   "outputs": [
    {
     "name": "stdout",
     "output_type": "stream",
     "text": [
      "Letter Postion is 97\n",
      "Alpha position is -1\n",
      "Alpha position at the end is 23\n",
      "Letter Postion is 97\n",
      "Alpha position is -1\n",
      "Alpha position at the end is 23\n",
      "Letter Postion is 97\n",
      "Alpha position is -1\n",
      "Alpha position at the end is 23\n"
     ]
    },
    {
     "data": {
      "text/plain": [
       "'yyy'"
      ]
     },
     "execution_count": 25,
     "metadata": {},
     "output_type": "execute_result"
    }
   ],
   "source": [
    "caesar_cipher(\"aaa\", 49)"
   ]
  }
 ],
 "metadata": {
  "kernelspec": {
   "display_name": "Python 3",
   "language": "python",
   "name": "python3"
  },
  "language_info": {
   "codemirror_mode": {
    "name": "ipython",
    "version": 3
   },
   "file_extension": ".py",
   "mimetype": "text/x-python",
   "name": "python",
   "nbconvert_exporter": "python",
   "pygments_lexer": "ipython3",
   "version": "3.13.5"
  }
 },
 "nbformat": 4,
 "nbformat_minor": 5
}
